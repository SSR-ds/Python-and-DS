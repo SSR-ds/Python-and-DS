{
 "cells": [
  {
   "cell_type": "code",
   "execution_count": 1,
   "metadata": {},
   "outputs": [
    {
     "name": "stdout",
     "output_type": "stream",
     "text": [
      "150\n"
     ]
    }
   ],
   "source": [
    "#reduce function\n",
    "l = [10,20,30,40,50]\n",
    "m = 0\n",
    "\n",
    "for i in l:\n",
    "    m = m + i\n",
    "\n",
    "print(m)"
   ]
  },
  {
   "cell_type": "code",
   "execution_count": 2,
   "metadata": {},
   "outputs": [
    {
     "data": {
      "text/plain": [
       "150"
      ]
     },
     "execution_count": 2,
     "metadata": {},
     "output_type": "execute_result"
    }
   ],
   "source": [
    "#another type of my reduce function\n",
    "\n",
    "def reduce(list):\n",
    "    m = 0\n",
    "    for i in list:\n",
    "        m = m + i\n",
    "    return m\n",
    "\n",
    "\n",
    "reduce([10,20,30,40,50])"
   ]
  },
  {
   "cell_type": "code",
   "execution_count": 3,
   "metadata": {},
   "outputs": [
    {
     "name": "stdout",
     "output_type": "stream",
     "text": [
      "[20, 30]\n"
     ]
    }
   ],
   "source": [
    "#filter function\n",
    "\n",
    "m = [20,30,35,45,55]\n",
    "n=[]\n",
    "\n",
    "for i in m:\n",
    "    if i % 2 == 0:\n",
    "        n.append(i)\n",
    "        \n",
    "print(n)       "
   ]
  },
  {
   "cell_type": "code",
   "execution_count": 4,
   "metadata": {},
   "outputs": [
    {
     "data": {
      "text/plain": [
       "[20, 30]"
      ]
     },
     "execution_count": 4,
     "metadata": {},
     "output_type": "execute_result"
    }
   ],
   "source": [
    "#filter fucntion\n",
    "\n",
    "def my_filter(num):\n",
    "    if num%2 ==0:\n",
    "        return True\n",
    "    \n",
    "l = [20,30,35,45,55]\n",
    "\n",
    "(list(filter(my_filter,l)))"
   ]
  },
  {
   "cell_type": "code",
   "execution_count": 5,
   "metadata": {},
   "outputs": [
    {
     "name": "stdout",
     "output_type": "stream",
     "text": [
      "x,y,z\n",
      "['x', 'xx', 'xxx', 'xxxx', 'y', 'yy', 'yyy', 'yyyy', 'z', 'zz', 'zzz', 'zzzz']\n"
     ]
    }
   ],
   "source": [
    "# ['x', 'xx', 'xxx', 'xxxx', 'y', 'yy', 'yyy', 'yyyy', 'z', 'zz', 'zzz', 'zzzz'] \n",
    "\n",
    "result = [x*y for x in input().split(',') for y in range(1,5)]\n",
    "print(result)"
   ]
  },
  {
   "cell_type": "code",
   "execution_count": 6,
   "metadata": {},
   "outputs": [
    {
     "name": "stdout",
     "output_type": "stream",
     "text": [
      "String: x,y,z\n",
      "['x', 'y', 'z', 'xx', 'yy', 'zz', 'xxx', 'yyy', 'zzz', 'xxxx', 'yyyy', 'zzzz']\n"
     ]
    }
   ],
   "source": [
    "#['x', 'y', 'z', 'xx', 'yy', 'zz', 'xxx', 'yyy', 'zzz', 'xxxx', 'yyyy', 'zzzz'] \n",
    "\n",
    "t=list(input(\"String: \").split(','))\n",
    "Value=[x*y for y in range(1,5) for x in t]\n",
    "print(Value)"
   ]
  },
  {
   "cell_type": "code",
   "execution_count": 7,
   "metadata": {},
   "outputs": [
    {
     "name": "stdout",
     "output_type": "stream",
     "text": [
      "2\n",
      "3\n",
      "4\n",
      "3\n",
      "4\n",
      "5\n",
      "4\n",
      "5\n",
      "6\n",
      "2,3,4,5\n",
      "3,4,5,6\n",
      "4,5,6,7\n",
      "5,6,7,8\n",
      "[[['2'], ['3'], ['4'], ['3'], ['4'], ['5'], ['4'], ['5'], ['6']], [['2,3,4,5'], ['3,4,5,6'], ['4,5,6,7'], ['5,6,7,8']]]\n"
     ]
    }
   ],
   "source": [
    "# [[2], [3], [4], [3], [4], [5], [4], [5], [6]] [[2, 3, 4, 5], [3, 4, 5, 6],[4, 5, 6, 7], [5, 6, 7, 8]]\n",
    "\n",
    "list=[]\n",
    "value=[[y] for x in range(9) for y in input().split(',') ]\n",
    "list.append(value)\n",
    "\n",
    "list2=[]\n",
    "value2=[[y] for x in range(4) for y in input().split()]\n",
    "list.append(value2)\n",
    "print(list)"
   ]
  },
  {
   "cell_type": "code",
   "execution_count": 12,
   "metadata": {},
   "outputs": [
    {
     "name": "stdout",
     "output_type": "stream",
     "text": [
      "1,1\n",
      "2,1\n",
      "3,1\n",
      "1,2\n",
      "2,2\n",
      "3,2\n",
      "1,3\n",
      "2,3\n",
      "3,3\n",
      "[[['1,1'], ['2,1'], ['3,1'], ['1,2'], ['2,2'], ['3,2'], ['1,3'], ['2,3'], ['3,3']]]\n"
     ]
    }
   ],
   "source": [
    "list=[]\n",
    "value=[[y] for x in range(9) for y in input().split()]\n",
    "list.append(value)\n",
    "print(list)"
   ]
  }
 ],
 "metadata": {
  "kernelspec": {
   "display_name": "Python 3",
   "language": "python",
   "name": "python3"
  },
  "language_info": {
   "codemirror_mode": {
    "name": "ipython",
    "version": 3
   },
   "file_extension": ".py",
   "mimetype": "text/x-python",
   "name": "python",
   "nbconvert_exporter": "python",
   "pygments_lexer": "ipython3",
   "version": "3.7.6"
  }
 },
 "nbformat": 4,
 "nbformat_minor": 4
}
